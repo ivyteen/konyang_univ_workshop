{
 "cells": [
  {
   "cell_type": "markdown",
   "metadata": {},
   "source": [
    "## 건강검진정보 데이터를 이용한 시각화 실습"
   ]
  },
  {
   "cell_type": "code",
   "execution_count": null,
   "metadata": {},
   "outputs": [],
   "source": [
    "import pandas as pd\n",
    "import platform\n",
    "import seaborn as sns\n",
    "import matplotlib.pyplot as plt\n",
    "from matplotlib import font_manager\n",
    "\n",
    "if platform.system() == 'Windows':\n",
    "    path = 'c:/Windows/Fonts/malgun.ttf'\n",
    "    font_name = font_manager.FontProperties(fname=path).get_name()\n",
    "    plt.rc('font', family=font_name)\n",
    "elif platform.system() == 'Darwin':\n",
    "    plt.rc('font',family='AppleGothic')\n",
    "elif platform.system() == 'Linux': #When Using Colab\n",
    "    !sudo apt-get install -y fonts-nanum\n",
    "    !sudo fc-cache -fv\n",
    "    !rm ~/.cache/matplotlib -rf\n",
    "    plt.rc('font', family='NanumBarunGothic')\n",
    "plt.rcParams['axes.unicode_minus'] = False"
   ]
  },
  {
   "cell_type": "markdown",
   "metadata": {},
   "source": [
    "원본 데이터\n",
    "\n",
    "https://www.data.go.kr/data/15007122/fileData.do"
   ]
  },
  {
   "cell_type": "code",
   "execution_count": null,
   "metadata": {},
   "outputs": [],
   "source": [
    "df = pd.read_csv('./health_info.csv',encoding=\"cp949\")\n",
    "df"
   ]
  },
  {
   "cell_type": "markdown",
   "metadata": {},
   "source": [
    "### 연령대, 성별에 따른 평균 신장 시각화\n",
    "2개 항목에 대한 비교 - Bar Chart"
   ]
  },
  {
   "cell_type": "code",
   "execution_count": null,
   "metadata": {},
   "outputs": [],
   "source": [
    "#연령대,성별에 따른 평균 신장 시각화\n",
    "\n",
    "age_list = []\n",
    "gender_list = []\n",
    "height_mean_list =[]\n",
    "\n",
    "sr=df.groupby([\"연령대\",\"성별\"])[\"신장(5Cm단위)\"].mean()\n",
    "\n",
    "for idx in sr.index:\n",
    "    age_list.append(idx[0])\n",
    "    gender_list.append(idx[1])\n",
    "\n",
    "for value in sr.values:\n",
    "    height_mean_list.append(value)\n",
    "    \n",
    "df3 = pd.DataFrame({\n",
    "    \"연령대\":age_list,\n",
    "    \"성별\":gender_list,\n",
    "    \"평균신장\":height_mean_list\n",
    "})\n",
    "\n",
    "\n",
    "plt.figure(figsize=(30, 15))\n",
    "sns.barplot(x=\"연령대\", y=\"평균신장\", hue=\"성별\", data=df3)\n",
    "plt.ylim([140,175])\n",
    "plt.xticks(fontsize=20)\n",
    "plt.yticks(fontsize=20)\n",
    "plt.ylabel(\"평균신장\", fontsize=20)\n",
    "plt.xlabel(\"연령대\", fontsize=20)\n"
   ]
  },
  {
   "cell_type": "markdown",
   "metadata": {},
   "source": [
    "### BMI와 허리둘레에 따른 데이터 분포 시각화\n",
    "2개 항목에 대한 데이터 분포 - Scatter Chart"
   ]
  },
  {
   "cell_type": "code",
   "execution_count": null,
   "metadata": {},
   "outputs": [],
   "source": [
    "#이상치 제거\n",
    "cond = (df[\"허리둘레\"] < 40) \n",
    "df = df.drop(df[cond].index, axis=0)\n",
    "df.describe()\n",
    "\n",
    "x = df[\"BMI\"].values\n",
    "y = df[\"허리둘레\"].values\n",
    "\n",
    "plt.figure(figsize=(30,20)) \n",
    "plt.xticks(fontsize=20)\n",
    "plt.xlabel(\"BMI\", fontsize=20)\n",
    "plt.yticks(fontsize=20)\n",
    "plt.ylabel(\"허리둘레\", fontsize=20)\n",
    "plt.scatter(x,y)\n",
    "plt.show()"
   ]
  },
  {
   "cell_type": "markdown",
   "metadata": {},
   "source": [
    "### 비만인 가운데 혈압 분류별 비율을 시각화\n",
    "전체 중 일부의 비율 표시 - Pie Chart(원그래프)"
   ]
  },
  {
   "cell_type": "code",
   "execution_count": null,
   "metadata": {},
   "outputs": [],
   "source": [
    "cond = df[\"BMI\"] < 20\n",
    "df.loc[cond, \"BMI구분\"] = \"저체중\"\n",
    "\n",
    "cond = (df[\"BMI\"] >= 20) & (df[\"BMI\"] < 25)\n",
    "df.loc[cond, \"BMI구분\"] = \"정상\"\n",
    "\n",
    "cond = (df[\"BMI\"] >= 25) & (df[\"BMI\"] < 30)\n",
    "df.loc[cond, \"BMI구분\"] = \"과체중\"\n",
    "\n",
    "cond = (df[\"BMI\"] >= 30) \n",
    "df.loc[cond, \"BMI구분\"] = \"비만\"\n",
    "\n",
    "df['BMI구분'].value_counts()\n",
    "df"
   ]
  },
  {
   "cell_type": "code",
   "execution_count": null,
   "metadata": {},
   "outputs": [],
   "source": [
    "#원그래프 시각화\n",
    "\n",
    "cond = (df[\"BMI구분\"] == \"비만\")\n",
    "df2 = df[cond]\n",
    "\n",
    "bp_types = df2['혈압분류'].value_counts().index.values\n",
    "type_counts = df2['혈압분류'].value_counts().values\n",
    "print(bp_types)\n",
    "ratios = []\n",
    "for count in type_counts:\n",
    "    ratios.append(count/len(df2))\n",
    "\n",
    "plt.figure(figsize=(10,6))    \n",
    "plt.pie(ratios, labels=bp_types, autopct='%.2f%%')\n"
   ]
  },
  {
   "cell_type": "markdown",
   "metadata": {},
   "source": [
    "### 각 연령대별 혈압 비율 시각화\n",
    "어떻게 시각화할까? Bar Chart? Pie Chart?"
   ]
  },
  {
   "cell_type": "code",
   "execution_count": null,
   "metadata": {},
   "outputs": [],
   "source": [
    "age_type_list = df[\"연령대\"].unique()\n",
    "#bp_type_list = df[\"혈압분류\"].unique()\n",
    "bp_type_list = ['정상','주의1','주의2','고혈압']\n",
    "count_list = []\n",
    "\n",
    "for age_type in age_type_list:\n",
    "    cond = df[\"연령대\"] == age_type\n",
    "    sr = (df[cond])[\"혈압분류\"].value_counts()\n",
    "    total = sr.sum()\n",
    "    tmp_list = []\n",
    "    for bp_type in bp_type_list:\n",
    "        ratio = (sr[bp_type]/total)*100\n",
    "        tmp_list.append(ratio.round(1))\n",
    "    count_list.append(tmp_list)\n",
    "\n",
    "df2 = pd.DataFrame(count_list, index=age_type_list, columns=bp_type_list)\n",
    "\n",
    "df3 = (df2.sort_index()).T.iloc[::-1]\n",
    "plt.figure(figsize=(16,10))\n",
    "sns.heatmap(df3, annot=True, fmt= '.1f', cmap=\"YlGnBu\",yticklabels='auto')\n",
    "#df3.plot.bar(stacked=True)"
   ]
  },
  {
   "cell_type": "markdown",
   "metadata": {},
   "source": [
    "### 지역별 고혈압 인구 비율 시각화\n",
    "Folium을 이용한 지도 시각화 활용"
   ]
  },
  {
   "cell_type": "code",
   "execution_count": null,
   "metadata": {},
   "outputs": [],
   "source": [
    "!pip install folium"
   ]
  },
  {
   "cell_type": "code",
   "execution_count": null,
   "metadata": {},
   "outputs": [],
   "source": [
    "import json\n",
    "import folium\n",
    "\n",
    "\n",
    "region_list = df[\"지역\"].unique()\n",
    "ratio_list = []\n",
    "\n",
    "for region in region_list:\n",
    "    cond = (df[\"지역\"] == region)\n",
    "    total = len(df[cond])\n",
    "    high_bp_num = (df[cond][\"혈압분류\"].value_counts())[\"고혈압\"]\n",
    "    ratio = high_bp_num/total*100\n",
    "    ratio_list.append(ratio.round(2))\n",
    "\n",
    "df2 = pd.DataFrame({\"지역명\":region_list, \"고혈압비율\":ratio_list})\n",
    "\n",
    "\n",
    "geojson_file = './map_korea.geojson'\n",
    "geo_json = json.load(open(geojson_file, encoding='utf-8'))\n",
    "\n",
    "\n",
    "for i in range(len(df2)):\n",
    "    tooltip_text = df2['지역명'][i]+\" : \"+ str(df2['고혈압비율'][i])+\"%\"\n",
    "    for j in range(len(geo_json['features'])):\n",
    "        if geo_json['features'][j]['properties']['CTP_KOR_NM'] == df2['지역명'][i]:\n",
    "            geo_json['features'][j]['properties']['tooltip1'] = tooltip_text\n",
    "\n",
    "korea_map = folium.Map(\n",
    "    location = [36.654957, 127.769162],   #좌표 값은 구글맵으로 구한다!\n",
    "    tiles = 'Stamen Terrain',\n",
    "    zoom_start = 7\n",
    ")\n",
    "\n",
    "choropleth=folium.Choropleth(\n",
    "    geo_data = geo_json,\n",
    "    data = df2,\n",
    "    columns = ['지역명','고혈압비율'],\n",
    "    fill_color='YlOrRd',\n",
    "    key_on='properties.CTP_KOR_NM',\n",
    "    highlight=True\n",
    ").add_to(korea_map)\n",
    "\n",
    "\n",
    "folium.LayerControl().add_to(korea_map)\n",
    "choropleth.geojson.add_child(\n",
    "    folium.features.GeoJsonTooltip(['tooltip1'], labels=False)\n",
    ")\n",
    "\n",
    "korea_map"
   ]
  }
 ],
 "metadata": {
  "kernelspec": {
   "display_name": "Python 3",
   "language": "python",
   "name": "python3"
  },
  "language_info": {
   "codemirror_mode": {
    "name": "ipython",
    "version": 3
   },
   "file_extension": ".py",
   "mimetype": "text/x-python",
   "name": "python",
   "nbconvert_exporter": "python",
   "pygments_lexer": "ipython3",
   "version": "3.8.5"
  }
 },
 "nbformat": 4,
 "nbformat_minor": 4
}
